{
 "cells": [
  {
   "cell_type": "markdown",
   "id": "14c9ae81",
   "metadata": {},
   "source": [
    "# Rape Victims in India (2001-2010)"
   ]
  },
  {
   "cell_type": "markdown",
   "id": "6e8a4430",
   "metadata": {},
   "source": [
    "The datasets that will be used for this analysis are :\n",
    "1. <a href=\"https://www.kaggle.com/rajanand/crime-in-india?select=20_Victims_of_rape.csv\">Rape Victim Dataset (2001-2010)</a>\n",
    "2. <a href=\"https://www.kaggle.com/sansuthi/indian-population\">Indian Population (year wise)</a>\n",
    "3. <a href=\"https://www.kaggle.com/doncorleone92/govt-of-india-literacy-rate\">Literacy rate (state wise : census-2001)</a>\n",
    "4. <a href=\"http://cyberjournalist.org.in/census/cenindia.html\">State Population (census-2001)</a>"
   ]
  },
  {
   "cell_type": "markdown",
   "id": "5a431976",
   "metadata": {},
   "source": [
    "## Research Question : "
   ]
  },
  {
   "cell_type": "markdown",
   "id": "bc2fc9a1",
   "metadata": {},
   "source": [
    "### Which state in India had the highest number of rapes reported in a given year across a period of 2001 - 2010?"
   ]
  },
  {
   "cell_type": "code",
   "execution_count": 1,
   "id": "927f11a4",
   "metadata": {},
   "outputs": [
    {
     "data": {
      "text/plain": [
       "' For this visualization to work, you will have to install ipywidgets and plotly  '"
      ]
     },
     "execution_count": 1,
     "metadata": {},
     "output_type": "execute_result"
    }
   ],
   "source": [
    "# Importing the libraries\n",
    "\n",
    "import pandas as pd\n",
    "import numpy as np\n",
    "import matplotlib.pyplot as plt\n",
    "import plotly.express as px\n",
    "from ipywidgets import interact\n",
    "\n",
    "''' For this visualization to work, you will have to install ipywidgets and plotly  '''\n",
    "\n",
    "# Installation with pip -\n",
    "# > pip install ipywidgets\n",
    "# > jupyter nbextension enable --py widgetsnbextension\n",
    "# > pip install plotly\n",
    "\n",
    "# Installation with conda\n",
    "# > conda install -c conda-forge ipywidgets\n",
    "# > conda install -c plotly plotly"
   ]
  },
  {
   "cell_type": "code",
   "execution_count": 2,
   "id": "bc86ed0a",
   "metadata": {},
   "outputs": [],
   "source": [
    "# Importing the datasets\n",
    "\n",
    "rape_victim = pd.read_csv('./Datasets/Victims_of_rape.csv')\n",
    "country_pop = pd.read_csv('./Datasets/IndiaPopulation_2021.csv')\n",
    "literacy = pd.read_csv('./Datasets/Literacy.csv')\n",
    "state_pop = pd.read_csv('./Datasets/State Population.csv')"
   ]
  },
  {
   "cell_type": "code",
   "execution_count": 3,
   "id": "01ebe1b7",
   "metadata": {},
   "outputs": [],
   "source": [
    "# CLeaning the datasets\n",
    "\n",
    "rape_victim = rape_victim[['Area_Name','Year','Subgroup','Rape_Cases_Reported']]\n",
    "rape_victim.rename({'Area_Name':'State'},axis=1,inplace=True)\n",
    "rape_victim = rape_victim[rape_victim['Subgroup'] == 'Total Rape Victims'].reset_index().drop(['Subgroup','index'],axis=1)\n",
    "\n",
    "country_pop = country_pop[(country_pop['Year']>=2001) & (country_pop['Year']<=2010)].sort_values('Year').set_index('Year').drop('GrowthRate',axis=1)\n",
    "\n",
    "literacy = literacy[['Country/ States/ Union Territories Name','Literacy Rate (Persons) - Total - 2001']]\n",
    "literacy.rename(columns=({'Country/ States/ Union Territories Name':'State',\n",
    "                          'Literacy Rate (Persons) - Total - 2001':'Literacy Rate'}),inplace=True)\n",
    "literacy.State.replace({'A & N Islands':'Andaman & Nicobar Islands',\n",
    "                       'D & N Haveli':'Dadra & Nagar Haveli',\n",
    "                       'NCT of Delhi':'Delhi'},inplace=True)\n",
    "literacy = literacy.drop(0).sort_values('State').reset_index().drop('index',axis=1)\n",
    "\n",
    "state_pop.columns = state_pop.columns.str.strip()\n",
    "state_pop = state_pop[['State','Population']]\n",
    "state_pop.State.replace({'Andaman & Nicobar Islands*':'Andaman & Nicobar Islands',\n",
    "                         'Chhatisgarh':'Chhattisgarh',\n",
    "                        'Jammu and Kashmir':'Jammu & Kashmir',\n",
    "                        'Orissa':'Odisha',\n",
    "                        'Pondicherry':'Puducherry',\n",
    "                        'Uttaranchal':'Uttarakhand'},inplace=True)\n",
    "state_pop = state_pop.drop(35).sort_values('State').reset_index().drop('index',axis=1)"
   ]
  },
  {
   "cell_type": "code",
   "execution_count": 4,
   "id": "6bed005f",
   "metadata": {},
   "outputs": [],
   "source": [
    "# Merging the datasets\n",
    "\n",
    "state_pop_and_literacy = pd.merge(state_pop,literacy,on='State')"
   ]
  },
  {
   "cell_type": "code",
   "execution_count": 5,
   "id": "ac050d25",
   "metadata": {
    "scrolled": false
   },
   "outputs": [
    {
     "data": {
      "application/vnd.jupyter.widget-view+json": {
       "model_id": "9bf8d77f68c449359ebbe4b2e192b267",
       "version_major": 2,
       "version_minor": 0
      },
      "text/plain": [
       "interactive(children=(IntSlider(value=2001, description='Year', max=2010, min=2001), Output()), _dom_classes=(…"
      ]
     },
     "metadata": {},
     "output_type": "display_data"
    },
    {
     "data": {
      "text/plain": [
       "<function __main__.func_plot(Year=2001)>"
      ]
     },
     "execution_count": 5,
     "metadata": {},
     "output_type": "execute_result"
    }
   ],
   "source": [
    "# Interactive Plotting Function\n",
    "\n",
    "def func_plot(Year=2001):\n",
    "\n",
    "    # Setting up the variables\n",
    "    rape_victim_plot = rape_victim[rape_victim['Year'] == Year].sort_values('Rape_Cases_Reported').reset_index().drop('index',axis=1)\n",
    "    final_merge_plot = pd.merge(rape_victim_plot,state_pop_and_literacy,on='State')\n",
    "       \n",
    "    # Plotting with plotly.express\n",
    "    fig = px.bar(final_merge_plot,x='Rape_Cases_Reported',y='State',orientation='h',title='Rape Victims in India (2001-2010)',\n",
    "          labels={'Rape_Cases_Reported':'<b>Cases reported</b>','State':'<b>States</b>'},width=950,height=750,\n",
    "          color='Rape_Cases_Reported',color_continuous_scale='viridis_r',hover_data=['Population', 'Literacy Rate'])\n",
    "    \n",
    "    # Setting the x-ticks\n",
    "    layout = dict(yaxis=dict(tickmode=\"array\",tickvals=final_merge_plot['State']))\n",
    "    fig.update_layout(layout,title={'x':0.5,'y':0.95})\n",
    "    \n",
    "    # Few Annotations\n",
    "    fig.add_annotation(dict(font=dict(size=15),x=0.5,y=0.12,\n",
    "                            text=\"Country Population : {}<br><br>Year : {}\".format(country_pop.loc[Year]['Population'],Year),\n",
    "                            xanchor='left',xref=\"paper\",yref=\"paper\",bgcolor=\"White\",\n",
    "                            bordercolor=\"Black\",borderpad=8,align='center'))\n",
    "    fig.show()\n",
    "\n",
    "interact(func_plot,Year=(rape_victim['Year'].unique()[0],rape_victim['Year'].unique()[-1]))"
   ]
  },
  {
   "cell_type": "code",
   "execution_count": null,
   "id": "abb6b51f",
   "metadata": {},
   "outputs": [],
   "source": []
  }
 ],
 "metadata": {
  "kernelspec": {
   "display_name": "Python 3",
   "language": "python",
   "name": "python3"
  },
  "language_info": {
   "codemirror_mode": {
    "name": "ipython",
    "version": 3
   },
   "file_extension": ".py",
   "mimetype": "text/x-python",
   "name": "python",
   "nbconvert_exporter": "python",
   "pygments_lexer": "ipython3",
   "version": "3.8.8"
  }
 },
 "nbformat": 4,
 "nbformat_minor": 5
}
